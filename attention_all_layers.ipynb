{
 "cells": [
  {
   "cell_type": "code",
   "execution_count": 1,
   "id": "initial_id",
   "metadata": {
    "collapsed": true,
    "ExecuteTime": {
     "end_time": "2023-12-09T16:36:13.154470900Z",
     "start_time": "2023-12-09T16:36:13.103710700Z"
    }
   },
   "outputs": [],
   "source": [
    "import os\n",
    "# set gpu number to 2\n",
    "os.environ[\"CUDA_VISIBLE_DEVICES\"] = \"3\""
   ]
  },
  {
   "cell_type": "code",
   "execution_count": 2,
   "outputs": [
    {
     "name": "stderr",
     "output_type": "stream",
     "text": [
      "Found cached dataset fashion_mnist (/var/local/glang/.cache/huggingface/datasets/fashion_mnist/fashion_mnist/1.0.0/0a671f063342996f19779d38c0ab4abef9c64f757b35af8134b331c294d7ba48)\n"
     ]
    }
   ],
   "source": [
    "from attention_all_layers import TemporalAugmentedDataset, EvalDataWrapper\n",
    "import torchvision.transforms as transforms\n",
    "\n",
    "transform = transforms.Compose([\n",
    "    transforms.ToTensor(),\n",
    "    # transforms.Normalize((0.5,), (0.5,))\n",
    "])\n",
    "from models.noisy_dataloader import NoisyTemporalDataset\n",
    "from utils.transforms import MeanFlat, RandomRepeatedNoise, Identity\n",
    "from functools import partial\n",
    "\n",
    "eye = Identity()\n",
    "\n",
    "def worker_init_fn(worker_id):\n",
    "    os.sched_setaffinity(0, range(os.cpu_count()))\n",
    "\n",
    "\n",
    "timestep_transforms = [eye] * 20\n",
    "# Create instances of the Fashion MNIST dataset\n",
    "test_dataset = TemporalAugmentedDataset('test', transform=transform,\n",
    "                                img_to_timesteps_transforms=timestep_transforms)\n",
    "from torch.utils.data import DataLoader\n",
    "\n",
    "from utils.visualization import visualize_first_batch_with_timesteps\n",
    "\n",
    "test_loader = DataLoader(EvalDataWrapper(test_dataset, contrast=1, rep_noise=False), batch_size=100, shuffle=False, num_workers=30, worker_init_fn=worker_init_fn)"
   ],
   "metadata": {
    "collapsed": false,
    "ExecuteTime": {
     "end_time": "2023-12-09T16:37:04.987560100Z",
     "start_time": "2023-12-09T16:36:13.103710700Z"
    }
   },
   "id": "9429a4c1000739b8"
  },
  {
   "cell_type": "code",
   "execution_count": 3,
   "outputs": [],
   "source": [
    "from modules.lateral_recurrence import LateralRecurrence\n",
    "from modules.exponential_decay import ExponentialDecay\n",
    "from modules.divisive_norm import DivisiveNorm\n",
    "from modules.divisive_norm_group import DivisiveNormGroup\n",
    "from modules.div_norm_channel import DivisiveNormChannel\n",
    "from pytorch_lightning.loggers import CSVLogger, TensorBoardLogger\n",
    "import pytorch_lightning as pl\n",
    "import json\n",
    "from models.adaptation import Adaptation\n",
    "from HookedRecursiveCNN import HookedRecursiveCNN\n",
    "\n",
    "# HookedRecursiveCNN needs layer_kwargs and div_norm_kwargs to know how to setup the model but the concrete init values are unimportant as they will get overwritten with the pretrained values\n",
    "layer_kwargs = [{'in_channels': 1, 'out_channels': 32, 'kernel_size': 5},\n",
    " {'in_channels': 32, 'out_channels': 32, 'kernel_size': 5},\n",
    " {'in_channels': 32, 'out_channels': 32, 'kernel_size': 3},\n",
    " {'in_channels': 32, 'out_channels': 32, 'kernel_size': 3},\n",
    " {'in_features': 128, 'out_features': 1024}]\n",
    "\n",
    "div_norm_kwargs = [\n",
    "    {\"epsilon\":  1e-8, \"K_init\":  0.2, \"train_K\":  True, \"alpha_init\":  -2.0, \"train_alpha\": True, \"sigma_init\": 0.1, \"train_sigma\": True},\n",
    "    {\"epsilon\":  1e-8, \"K_init\":  1.0, \"train_K\":  False, \"alpha_init\":  -2000000.0, \"train_alpha\": False, \"sigma_init\": 1.0, \"train_sigma\": False},\n",
    "    {\"epsilon\":  1e-8, \"K_init\":  1.0, \"train_K\":  False, \"alpha_init\":  -2000000.0, \"train_alpha\": False, \"sigma_init\": 1.0, \"train_sigma\": False},\n",
    "    {\"epsilon\":  1e-8, \"K_init\":  1.0, \"train_K\":  False, \"alpha_init\":  -2000000.0, \"train_alpha\": False, \"sigma_init\": 1.0, \"train_sigma\": False},\n",
    "    {\"epsilon\":  1e-8, \"K_init\":  1.0, \"train_K\":  False, \"alpha_init\":  0.0, \"train_alpha\": False, \"sigma_init\": 1.0, \"train_sigma\": False}\n",
    "  ]\n",
    "exp_decay_kwargs = [\n",
    "    {\"alpha_init\":  1.0, \"train_alpha\": False, \"beta_init\": 1, \"train_beta\": False},\n",
    "    {\"alpha_init\":  1.0, \"train_alpha\": False, \"beta_init\": 1, \"train_beta\": False},\n",
    "    {\"alpha_init\":  1.0, \"train_alpha\": False, \"beta_init\": 1, \"train_beta\": False},\n",
    "    {\"alpha_init\":  1.0, \"train_alpha\": False, \"beta_init\": 1, \"train_beta\": False},\n",
    "    {\"alpha_init\":  1.0, \"train_alpha\": False, \"beta_init\": 1, \"train_beta\": False}\n",
    "  ]\n",
    "\n",
    "div_norm_cfg = {\n",
    "    't_steps': 20, 'layer_kwargs': layer_kwargs,\n",
    "    'adaptation_module': DivisiveNorm,\n",
    "    'adaptation_kwargs': div_norm_kwargs, 'decode_every_timestep': True\n",
    "}\n",
    "exp_decay_cfg = {\n",
    "    't_steps': 20, 'layer_kwargs': layer_kwargs,\n",
    "    'adaptation_module': ExponentialDecay,\n",
    "    'adaptation_kwargs': exp_decay_kwargs, 'decode_every_timestep': True\n",
    "}"
   ],
   "metadata": {
    "collapsed": false,
    "ExecuteTime": {
     "end_time": "2023-12-09T16:38:30.215401700Z",
     "start_time": "2023-12-09T16:38:30.215401700Z"
    }
   },
   "id": "422830dd443287be"
  },
  {
   "cell_type": "code",
   "execution_count": 4,
   "outputs": [],
   "source": [
    "from tqdm import tqdm\n",
    "from torchmetrics.functional import accuracy\n",
    "import pandas as pd\n",
    "from matplotlib import pyplot as plt\n",
    "import seaborn as sns"
   ],
   "metadata": {
    "collapsed": false,
    "ExecuteTime": {
     "end_time": "2023-12-09T16:38:32.842871600Z",
     "start_time": "2023-12-09T16:38:32.743364800Z"
    }
   },
   "id": "85578bd79d9d4f60"
  },
  {
   "cell_type": "code",
   "execution_count": null,
   "outputs": [],
   "source": [
    "div_norm_model = HookedRecursiveCNN.load_from_checkpoint(\n",
    "    'learned_models/sqrt_augmented_attn_all_layers_DivisiveNorm_contrast_random_epoch_50.ckpt', div_norm_cfg)\n",
    "unsqrt_div_norm_model = HookedRecursiveCNN.load_from_checkpoint(\n",
    "    'learned_models/augmented_attn_all_layers_DivisiveNorm_contrast_random_epoch_30.ckpt', div_norm_cfg)\n",
    "exp_decay_model = HookedRecursiveCNN.load_from_checkpoint(\n",
    "    'learned_models/augmented_attn_all_layers_ExponentialDecay_contrast_random_epoch_50.ckpt', exp_decay_cfg)\n",
    "baseline_model = HookedRecursiveCNN.load_from_checkpoint(\n",
    "    'learned_models/baseline_video_fmnist_ExponentialDecay_contrast_random_epoch_10.ckpt', exp_decay_cfg)\n",
    "models = {\n",
    "    'Divisive Norm.': div_norm_model,\n",
    "    'Additive': exp_decay_model,\n",
    "    'No Adaptation': baseline_model\n",
    "}"
   ],
   "metadata": {
    "collapsed": false,
    "ExecuteTime": {
     "start_time": "2023-12-09T16:34:54.441403800Z"
    }
   },
   "id": "21078fc6cbd159ef"
  },
  {
   "cell_type": "markdown",
   "source": [
    "## Things I will eventually plot but I'm not yet interested in\n",
    "\n",
    "Note that these are mostly the same metrics as I already plotted for the 1-layer adaptation\n",
    "\n",
    "* example images input data\n",
    "* accuracy over time\n",
    "* accuracy over time with only 1 image\n",
    "* accuracy for different onsets of the second image\n",
    "* goal here is to show that the behavior is mostly the same although the dataset is much more challenging\n",
    "\n",
    "## Things that I'm most interested in because they are potentially novel\n",
    "\n",
    "* activation over time per layer -> would be great to see that later layers have more adaptation because that's what the brain shows\n",
    "* check if there are feature maps who get"
   ],
   "metadata": {
    "collapsed": false
   },
   "id": "9ce232f44be335ed"
  },
  {
   "cell_type": "code",
   "execution_count": null,
   "outputs": [],
   "source": [],
   "metadata": {
    "collapsed": false,
    "ExecuteTime": {
     "start_time": "2023-12-09T16:34:54.441403800Z"
    }
   },
   "id": "a1d6ae76f47b5353"
  },
  {
   "cell_type": "code",
   "execution_count": null,
   "outputs": [],
   "source": [],
   "metadata": {
    "collapsed": false,
    "ExecuteTime": {
     "start_time": "2023-12-09T16:34:54.441403800Z"
    }
   },
   "id": "531c5921bc9978ac"
  },
  {
   "cell_type": "code",
   "execution_count": null,
   "outputs": [],
   "source": [],
   "metadata": {
    "collapsed": false,
    "ExecuteTime": {
     "start_time": "2023-12-09T16:34:54.441403800Z"
    }
   },
   "id": "273e15df93229aa2"
  },
  {
   "cell_type": "code",
   "execution_count": null,
   "outputs": [],
   "source": [],
   "metadata": {
    "collapsed": false,
    "ExecuteTime": {
     "start_time": "2023-12-09T16:34:54.441403800Z"
    }
   },
   "id": "e4337c221aa1fe19"
  },
  {
   "cell_type": "code",
   "execution_count": null,
   "outputs": [],
   "source": [],
   "metadata": {
    "collapsed": false,
    "ExecuteTime": {
     "start_time": "2023-12-09T16:34:54.441403800Z"
    }
   },
   "id": "9b58e81e502d30a9"
  },
  {
   "cell_type": "code",
   "execution_count": null,
   "outputs": [],
   "source": [],
   "metadata": {
    "collapsed": false,
    "ExecuteTime": {
     "start_time": "2023-12-09T16:34:54.441403800Z"
    }
   },
   "id": "5267445aafabdadd"
  },
  {
   "cell_type": "code",
   "execution_count": null,
   "outputs": [],
   "source": [],
   "metadata": {
    "collapsed": false,
    "ExecuteTime": {
     "start_time": "2023-12-09T16:34:54.441403800Z"
    }
   },
   "id": "3e47816a2c40b6f8"
  },
  {
   "cell_type": "code",
   "execution_count": null,
   "outputs": [],
   "source": [],
   "metadata": {
    "collapsed": false
   },
   "id": "4333fe2d6cff3727"
  }
 ],
 "metadata": {
  "kernelspec": {
   "display_name": "Python 3",
   "language": "python",
   "name": "python3"
  },
  "language_info": {
   "codemirror_mode": {
    "name": "ipython",
    "version": 2
   },
   "file_extension": ".py",
   "mimetype": "text/x-python",
   "name": "python",
   "nbconvert_exporter": "python",
   "pygments_lexer": "ipython2",
   "version": "2.7.6"
  }
 },
 "nbformat": 4,
 "nbformat_minor": 5
}
